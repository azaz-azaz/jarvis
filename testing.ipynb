{
 "cells": [
  {
   "cell_type": "code",
   "execution_count": 33,
   "id": "initial_id",
   "metadata": {
    "collapsed": true,
    "ExecuteTime": {
     "end_time": "2024-01-14T18:35:50.385973700Z",
     "start_time": "2024-01-14T18:35:50.266889600Z"
    }
   },
   "outputs": [],
   "source": [
    "import requests\n",
    "url = \"https://api.openai.com/\"\n"
   ]
  },
  {
   "cell_type": "code",
   "outputs": [
    {
     "name": "stdout",
     "output_type": "stream",
     "text": [
      "True\n",
      "{\n",
      "    \"message\": \"Welcome to the OpenAI API! Documentation is available at https://platform.openai.com/docs/api-reference\"\n",
      "}\n"
     ]
    }
   ],
   "source": [
    "def analise_response(text: str):\n",
    "    return \"(){var b=a.getElement\" not in text\n",
    "\n",
    "txt = requests.get(\n",
    "    url,\n",
    "    proxies={\"https\": \"65.109.152.88\t8888\".replace('\t', ':')},\n",
    "    timeout=2\n",
    ").text\n",
    "\n",
    "temp = analise_response(txt)\n",
    "print(temp)\n",
    "if temp:\n",
    "    print(txt)"
   ],
   "metadata": {
    "collapsed": false,
    "ExecuteTime": {
     "end_time": "2024-01-14T18:35:51.419576600Z",
     "start_time": "2024-01-14T18:35:50.390960400Z"
    }
   },
   "id": "7239b2a702e20cc2",
   "execution_count": 34
  }
 ],
 "metadata": {
  "kernelspec": {
   "display_name": "Python 3",
   "language": "python",
   "name": "python3"
  },
  "language_info": {
   "codemirror_mode": {
    "name": "ipython",
    "version": 2
   },
   "file_extension": ".py",
   "mimetype": "text/x-python",
   "name": "python",
   "nbconvert_exporter": "python",
   "pygments_lexer": "ipython2",
   "version": "2.7.6"
  }
 },
 "nbformat": 4,
 "nbformat_minor": 5
}
